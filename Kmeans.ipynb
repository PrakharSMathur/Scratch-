{
 "cells": [
  {
   "cell_type": "code",
   "execution_count": 14,
   "metadata": {},
   "outputs": [],
   "source": [
    "import numpy as np\n",
    "import matplotlib.pyplot as plt\n",
    "import pandas as pd\n",
    "import math\n",
    "import random"
   ]
  },
  {
   "cell_type": "code",
   "execution_count": 15,
   "metadata": {},
   "outputs": [],
   "source": [
    "#intialize random data\n",
    "datax=np.array([1,5,34,7,35,6])\n",
    "datay=np.array([1,42,2,5,17,7])\n",
    "datax=list(datax)\n",
    "datay=list(datay)"
   ]
  },
  {
   "cell_type": "code",
   "execution_count": 16,
   "metadata": {},
   "outputs": [
    {
     "data": {
      "text/plain": [
       "<matplotlib.collections.PathCollection at 0x1ef5b69beb8>"
      ]
     },
     "execution_count": 16,
     "metadata": {},
     "output_type": "execute_result"
    },
    {
     "data": {
      "image/png": "[encoded data removed]",
      "text/plain": [
       "<Figure size 432x288 with 1 Axes>"
      ]
     },
     "metadata": {},
     "output_type": "display_data"
    }
   ],
   "source": [
    "plt.scatter(datax,datay)# plot data"
   ]
  },
  {
   "cell_type": "code",
   "execution_count": 17,
   "metadata": {},
   "outputs": [],
   "source": [
    "#function to calculate distance\n",
    "def dis(x1,y1,x2,y2):\n",
    "    dist=math.sqrt((y2-y1)**2 + (x1-x2)**2)\n",
    "    return dist\n"
   ]
  },
  {
   "cell_type": "code",
   "execution_count": 18,
   "metadata": {},
   "outputs": [],
   "source": [
    "# intialize means\n",
    "k=2\n",
    "mx1=(random.uniform(0,5))\n",
    "my1=(random.uniform(0,5))\n",
    "mx2=(random.uniform(5,15))\n",
    "my2=(random.uniform(25,55))"
   ]
  },
  {
   "cell_type": "code",
   "execution_count": 19,
   "metadata": {},
   "outputs": [
    {
     "data": {
      "image/png": "[encoded data removed]",
      "text/plain": [
       "<Figure size 432x288 with 1 Axes>"
      ]
     },
     "metadata": {},
     "output_type": "display_data"
    }
   ],
   "source": [
    "#plot data and mean\n",
    "plt.scatter(datax,datay,color='blue')\n",
    "plt.scatter(mx1,my1,color='red')\n",
    "plt.scatter(mx2,my2,color='green')\n",
    "plt.show()"
   ]
  },
  {
   "cell_type": "code",
   "execution_count": 20,
   "metadata": {},
   "outputs": [],
   "source": [
    "nmx1,nmy1,nmx2,nmy2=0,0,0,0\n",
    "dmx1=[0]\n",
    "dmx2=[0]\n",
    "dmy1=[0]\n",
    "dmy2=[0]\n",
    "temp1,temp2=0,0"
   ]
  },
  {
   "cell_type": "code",
   "execution_count": 21,
   "metadata": {},
   "outputs": [
    {
     "data": {
      "image/png": "[encoded data removed]",
      "text/plain": [
       "<Figure size 432x288 with 1 Axes>"
      ]
     },
     "metadata": {},
     "output_type": "display_data"
    },
    {
     "name": "stdout",
     "output_type": "stream",
     "text": [
      "3.5 3.25 18.5 15.25\n",
      "4\n",
      "1\n"
     ]
    },
    {
     "data": {
      "image/png": "[encoded data removed]",
      "text/plain": [
       "<Figure size 432x288 with 1 Axes>"
      ]
     },
     "metadata": {},
     "output_type": "display_data"
    },
    {
     "name": "stdout",
     "output_type": "stream",
     "text": [
      "17.5 5.0 4.5 13.5\n",
      "done\n"
     ]
    }
   ],
   "source": [
    "while(1):\n",
    "    for i in range(0,len(datax)):\n",
    "        x=datax[i]\n",
    "        y=datay[i]\n",
    "        if(dis(x,y,mx1,my1)<dis(x,y,mx2,my2)):\n",
    "            dmx1.append(x)\n",
    "            dmy1.append(y)\n",
    "        elif(dis(x,y,mx1,my1)>dis(x,y,mx2,my2)):\n",
    "            dmx2.append(x)\n",
    "            dmy2.append(y)\n",
    "        elif(dis(x,y,mx1,my1)==dis(x,y,mx2,my2)):\n",
    "            if(i%2==0):\n",
    "                dmx1.append(x)\n",
    "                dmy1.append(y)\n",
    "            elif(i%2==1):\n",
    "                dmx2.append(x)\n",
    "                dmy2.append(y)\n",
    "    mx1,mx2,my1,my2=nmx1,nmx2,nmy1,nmy2\n",
    "    nmx1,nmx2,nmy1,nmy2=sum(dmx1)/float(len(dmx1)),sum(dmx2)/float(len(dmx2)),sum(dmy1)/float(len(dmy1)),sum(dmy2)/float(len(dmy2))\n",
    "    plt.scatter(dmx1,dmy1,color='red',label=str(len(dmx1)-1))\n",
    "    plt.scatter(nmx1,nmy1,color='black')\n",
    "    plt.scatter(nmx2,nmy2,color='black')\n",
    "    plt.scatter(dmx2,dmy2,color='green',label=str(len(dmx2)-1))\n",
    "    plt.legend(loc='upper left')\n",
    "    plt.show()\n",
    "    print(nmx1,nmy1,nmx2,nmy2)\n",
    "    if(abs(int(nmx1-mx1)<1) and abs(int(nmx2-mx2)<1) and abs(int(nmy2-my2)<1) and abs(int(nmy1-my2)<1)or ((len(dmx1)==(temp1)) and len(dmx2)==temp2)):\n",
    "        print(\"done\")\n",
    "        break\n",
    "    print(len(dmx1))\n",
    "    temp1,temp2=len(dmx1),len(dmx2)                                                                           \n",
    "    dmx1=[0]\n",
    "    dmx2=[0]\n",
    "    dmy1=[0]\n",
    "    dmy2=[0]\n",
    "    print(len(dmx1))"
   ]
  },
  {
   "cell_type": "code",
   "execution_count": null,
   "metadata": {},
   "outputs": [],
   "source": []
  },
  {
   "cell_type": "code",
   "execution_count": null,
   "metadata": {},
   "outputs": [],
   "source": []
  }
 ],
 "metadata": {
  "kernelspec": {
   "display_name": "Python 3",
   "language": "python",
   "name": "python3"
  },
  "language_info": {
   "codemirror_mode": {
    "name": "ipython",
    "version": 3
   },
   "file_extension": ".py",
   "mimetype": "text/x-python",
   "name": "python",
   "nbconvert_exporter": "python",
   "pygments_lexer": "ipython3",
   "version": "3.5.0"
  }
 },
 "nbformat": 4,
 "nbformat_minor": 2
}
