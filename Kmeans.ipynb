{
 "cells": [
  {
   "cell_type": "code",
   "execution_count": 143,
   "metadata": {},
   "outputs": [],
   "source": [
    "import numpy as np\n",
    "import matplotlib.pyplot as plt\n",
    "import pandas as pd\n",
    "import math\n",
    "import random"
   ]
  },
  {
   "cell_type": "code",
   "execution_count": 151,
   "metadata": {},
   "outputs": [],
   "source": [
    "#intialize random data\n",
    "datax=np.random.uniform(low=-15, high=10, size=(50) )\n",
    "datay=np.random.uniform(low=-15, high=10, size=(50) )\n",
    "datax=list(datax)\n",
    "datay=list(datay)"
   ]
  },
  {
   "cell_type": "code",
   "execution_count": 152,
   "metadata": {},
   "outputs": [
    {
     "data": {
      "text/plain": [
       "<matplotlib.collections.PathCollection at 0x23ce906bbe0>"
      ]
     },
     "execution_count": 152,
     "metadata": {},
     "output_type": "execute_result"
    },
    {
     "data": {
      "image/png": "[encoded data removed]",
      "text/plain": [
       "<Figure size 432x288 with 1 Axes>"
      ]
     },
     "metadata": {},
     "output_type": "display_data"
    }
   ],
   "source": [
    "plt.scatter(datax,datay)# plot data"
   ]
  },
  {
   "cell_type": "code",
   "execution_count": 153,
   "metadata": {},
   "outputs": [],
   "source": [
    "#function to calculate distance\n",
    "def dis(x1,y1,x2,y2):\n",
    "    dist=math.sqrt((y2-y1)**2 + (x1-x2)**2)\n",
    "    return dist\n"
   ]
  },
  {
   "cell_type": "code",
   "execution_count": 154,
   "metadata": {},
   "outputs": [],
   "source": [
    "# intialize means\n",
    "k=2\n",
    "mx1=(random.uniform(-15,10))\n",
    "my1=(random.uniform(-15,10))\n",
    "mx2=(random.uniform(-15,10))\n",
    "my2=(random.uniform(-15,10))"
   ]
  },
  {
   "cell_type": "code",
   "execution_count": 155,
   "metadata": {},
   "outputs": [
    {
     "data": {
      "image/png": "[encoded data removed]",
      "text/plain": [
       "<Figure size 432x288 with 1 Axes>"
      ]
     },
     "metadata": {},
     "output_type": "display_data"
    }
   ],
   "source": [
    "#plot data and mean\n",
    "plt.scatter(datax,datay,color='blue')\n",
    "plt.scatter(mx1,my1,color='red')\n",
    "plt.scatter(mx2,my2,color='green')\n",
    "plt.show()"
   ]
  },
  {
   "cell_type": "code",
   "execution_count": 156,
   "metadata": {},
   "outputs": [],
   "source": [
    "nmx1,nmy1,nmx2,nmy2=0,0,0,0\n",
    "dmx1=[]\n",
    "dmx2=[]\n",
    "dmy1=[]\n",
    "dmy2=[]"
   ]
  },
  {
   "cell_type": "code",
   "execution_count": 157,
   "metadata": {},
   "outputs": [
    {
     "data": {
      "image/png": "[encoded data removed]",
      "text/plain": [
       "<Figure size 432x288 with 1 Axes>"
      ]
     },
     "metadata": {},
     "output_type": "display_data"
    }
   ],
   "source": [
    "while(nmx1!=mx1 and nmx2!=mx2 and nmy2!=my2 and nmy1!=my2):\n",
    "    for i in range(0,len(datax)):\n",
    "        x=datax[i]\n",
    "        y=datay[i]\n",
    "        if(dis(x,y,mx1,my1)<dis(x,y,mx2,my2)):\n",
    "            dmx1.append(x)\n",
    "            dmy1.append(y)\n",
    "        elif(dis(x,y,mx1,my1)>dis(x,y,mx2,my2)):\n",
    "            dmx2.append(x)\n",
    "            dmy2.append(y)\n",
    "    mx1,mx2,my1,my2=nmx1,nmx2,nmy1,nmy2\n",
    "    nmx1,nmx2,nmy1,nmy2=sum(dmx1),sum(dmx2),sum(dmy1),sum(dmy2)\n",
    "    if(len(dmx1)>0):\n",
    "        plt.scatter(dmx1,dmy1,color='red',label=str(len(dmx1)))\n",
    "        plt.scatter(dmx2,dmy2,color='green',label=str(len(dmx2)))\n",
    "        plt.legend(loc='upper left')\n",
    "        plt.show()\n",
    "    dmx1.clear()\n",
    "    dmx2.clear()\n",
    "    dmy1.clear()\n",
    "    dmy2.clear()\n",
    "        "
   ]
  },
  {
   "cell_type": "code",
   "execution_count": 9,
   "metadata": {},
   "outputs": [],
   "source": []
  },
  {
   "cell_type": "code",
   "execution_count": null,
   "metadata": {},
   "outputs": [],
   "source": []
  }
 ],
 "metadata": {
  "kernelspec": {
   "display_name": "Python 3",
   "language": "python",
   "name": "python3"
  },
  "language_info": {
   "codemirror_mode": {
    "name": "ipython",
    "version": 3
   },
   "file_extension": ".py",
   "mimetype": "text/x-python",
   "name": "python",
   "nbconvert_exporter": "python",
   "pygments_lexer": "ipython3",
   "version": "3.5.0"
  }
 },
 "nbformat": 4,
 "nbformat_minor": 2
}
